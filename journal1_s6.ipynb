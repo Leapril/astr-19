{
 "cells": [
  {
   "cell_type": "code",
   "execution_count": 27,
   "id": "ec38721b-93c4-47a0-9c06-6adff0902b36",
   "metadata": {},
   "outputs": [],
   "source": [
    "import numpy as np"
   ]
  },
  {
   "cell_type": "raw",
   "id": "c726c34c-dede-4400-95b2-900b22a7d10f",
   "metadata": {},
   "source": [
    "Importing numpy for sin(x) and cos(x)"
   ]
  },
  {
   "cell_type": "code",
   "execution_count": 28,
   "id": "fc7f18c9-2484-4a4a-9394-0074ed5ad312",
   "metadata": {},
   "outputs": [],
   "source": [
    "def sinFunct(x):\n",
    "    return np.sin(x)"
   ]
  },
  {
   "cell_type": "markdown",
   "id": "218f553c-9f34-49bf-a30a-d61d6fd65c2f",
   "metadata": {},
   "source": [
    "The sinFunct() returns the value of sin(x)"
   ]
  },
  {
   "cell_type": "code",
   "execution_count": 29,
   "id": "76eccda7-8f26-4812-9129-622962ed587f",
   "metadata": {},
   "outputs": [],
   "source": [
    "def cosFunct(x):\n",
    "    return np.cos(x)"
   ]
  },
  {
   "cell_type": "markdown",
   "id": "4bd6d46c-8ddf-4f17-92dd-b9119d981517",
   "metadata": {},
   "source": [
    "The cosFunct() returns the value of cos(x)"
   ]
  },
  {
   "cell_type": "code",
   "execution_count": 30,
   "id": "1c344743-a02d-40e6-9f46-53a084ef0152",
   "metadata": {},
   "outputs": [],
   "source": [
    "x = np.linspace(0,2*np.pi,10) #values of x between 0 to 2*pi"
   ]
  },
  {
   "cell_type": "code",
   "execution_count": 31,
   "id": "e79defea-78a3-4789-8e49-8f0076e65877",
   "metadata": {},
   "outputs": [
    {
     "name": "stdout",
     "output_type": "stream",
     "text": [
      "x = 0.000000000 sin(x) = 0.000000000 cos(x) = 1.000000000\n",
      "x = 0.698131701 sin(x) = 0.642787610 cos(x) = 0.766044443\n",
      "x = 1.396263402 sin(x) = 0.984807753 cos(x) = 0.173648178\n",
      "x = 2.094395102 sin(x) = 0.866025404 cos(x) = -0.500000000\n",
      "x = 2.792526803 sin(x) = 0.342020143 cos(x) = -0.939692621\n",
      "x = 3.490658504 sin(x) = -0.342020143 cos(x) = -0.939692621\n",
      "x = 4.188790205 sin(x) = -0.866025404 cos(x) = -0.500000000\n",
      "x = 4.886921906 sin(x) = -0.984807753 cos(x) = 0.173648178\n",
      "x = 5.585053606 sin(x) = -0.642787610 cos(x) = 0.766044443\n",
      "x = 6.283185307 sin(x) = -0.000000000 cos(x) = 1.000000000\n"
     ]
    }
   ],
   "source": [
    "for i in x: #print otu the first 10 values of x sinx and cosx\n",
    "    s = sinFunct(i)\n",
    "    c = cosFunct(i)\n",
    "    print (f'x = {i:10.9f}', f'sin(x) = {s:10.9f}', f'cos(x) = {c:10.9f}')"
   ]
  }
 ],
 "metadata": {
  "kernelspec": {
   "display_name": "Python 3 (ipykernel)",
   "language": "python",
   "name": "python3"
  },
  "language_info": {
   "codemirror_mode": {
    "name": "ipython",
    "version": 3
   },
   "file_extension": ".py",
   "mimetype": "text/x-python",
   "name": "python",
   "nbconvert_exporter": "python",
   "pygments_lexer": "ipython3",
   "version": "3.11.5"
  }
 },
 "nbformat": 4,
 "nbformat_minor": 5
}
